{
 "cells": [
  {
   "cell_type": "code",
   "execution_count": 68,
   "metadata": {},
   "outputs": [],
   "source": [
    "import pandas as pd\n",
    "import numpy as np\n",
    "import seaborn as sb\n",
    "import matplotlib.pyplot as plt\n",
    "%matplotlib inline"
   ]
  },
  {
   "cell_type": "code",
   "execution_count": 69,
   "metadata": {},
   "outputs": [],
   "source": [
    "import warnings\n",
    "warnings.filterwarnings('ignore')"
   ]
  },
  {
   "cell_type": "code",
   "execution_count": 70,
   "metadata": {},
   "outputs": [
    {
     "data": {
      "text/plain": [
       "((32769, 10), (58921, 10))"
      ]
     },
     "execution_count": 70,
     "metadata": {},
     "output_type": "execute_result"
    }
   ],
   "source": [
    "\n",
    "train=pd.read_csv('train.csv')\n",
    "test=pd.read_csv('test.csv')\n",
    "train.shape,test.shape"
   ]
  },
  {
   "cell_type": "code",
   "execution_count": 71,
   "metadata": {},
   "outputs": [],
   "source": [
    "import random\n",
    "from collections import deque\n",
    "from sklearn.model_selection import train_test_split\n",
    "from sklearn.preprocessing import StandardScaler\n",
    "from keras.models import Sequential\n",
    "from keras.layers import Dense\n",
    "from keras.optimizers import Adam\n"
   ]
  },
  {
   "cell_type": "code",
   "execution_count": 72,
   "metadata": {},
   "outputs": [
    {
     "data": {
      "text/plain": [
       "((32769, 7518), (58921, 7518))"
      ]
     },
     "execution_count": 72,
     "metadata": {},
     "output_type": "execute_result"
    }
   ],
   "source": [
    "# OHE for RESOURCE variable\n",
    "from sklearn.preprocessing import OneHotEncoder\n",
    "ohe=OneHotEncoder(handle_unknown='ignore')\n",
    "ohe.fit(train['RESOURCE'].values.reshape(-1,1))\n",
    "resource_ohe_train = ohe.transform(train['RESOURCE'].values.reshape(-1,1))\n",
    "resurce_ohe_test = ohe.transform(test['RESOURCE'].values.reshape(-1,1))\n",
    "resource_ohe_train.shape,resurce_ohe_test.shape"
   ]
  },
  {
   "cell_type": "code",
   "execution_count": 73,
   "metadata": {},
   "outputs": [
    {
     "data": {
      "text/plain": [
       "((32769, 4243), (58921, 4243))"
      ]
     },
     "execution_count": 73,
     "metadata": {},
     "output_type": "execute_result"
    }
   ],
   "source": [
    "# OHE for MGR_ID variable\n",
    "from sklearn.preprocessing import OneHotEncoder\n",
    "ohe=OneHotEncoder(handle_unknown='ignore')\n",
    "ohe.fit(train['MGR_ID'].values.reshape(-1,1))\n",
    "mgr_id_ohe_train = ohe.transform(train['MGR_ID'].values.reshape(-1,1))\n",
    "mgr_id_ohe_test = ohe.transform(test['MGR_ID'].values.reshape(-1,1))\n",
    "mgr_id_ohe_train.shape,mgr_id_ohe_test.shape"
   ]
  },
  {
   "cell_type": "code",
   "execution_count": 74,
   "metadata": {},
   "outputs": [
    {
     "data": {
      "text/plain": [
       "((32769, 128), (58921, 128))"
      ]
     },
     "execution_count": 74,
     "metadata": {},
     "output_type": "execute_result"
    }
   ],
   "source": [
    "# OHE for ROLE_ROLLUP_1 variable\n",
    "from sklearn.preprocessing import OneHotEncoder\n",
    "ohe=OneHotEncoder(handle_unknown='ignore')\n",
    "ohe.fit(train['ROLE_ROLLUP_1'].values.reshape(-1,1))\n",
    "rollup1_ohe_train=ohe.transform(train['ROLE_ROLLUP_1'].values.reshape(-1,1))\n",
    "rollup1_ohe_test=ohe.transform(test['ROLE_ROLLUP_1'].values.reshape(-1,1))\n",
    "rollup1_ohe_train.shape,rollup1_ohe_test.shape"
   ]
  },
  {
   "cell_type": "code",
   "execution_count": 75,
   "metadata": {},
   "outputs": [
    {
     "data": {
      "text/plain": [
       "((32769, 177), (58921, 177))"
      ]
     },
     "execution_count": 75,
     "metadata": {},
     "output_type": "execute_result"
    }
   ],
   "source": [
    "# OHE for ROLE_ROLLUP_2 variable\n",
    "from sklearn.preprocessing import OneHotEncoder\n",
    "ohe=OneHotEncoder(handle_unknown='ignore')\n",
    "ohe.fit(train['ROLE_ROLLUP_2'].values.reshape(-1,1))\n",
    "rollup2_ohe_train=ohe.transform(train['ROLE_ROLLUP_2'].values.reshape(-1,1))\n",
    "rollup2_ohe_test=ohe.transform(test['ROLE_ROLLUP_2'].values.reshape(-1,1))\n",
    "rollup2_ohe_train.shape,rollup2_ohe_test.shape"
   ]
  },
  {
   "cell_type": "code",
   "execution_count": 76,
   "metadata": {},
   "outputs": [
    {
     "data": {
      "text/plain": [
       "((32769, 449), (58921, 449))"
      ]
     },
     "execution_count": 76,
     "metadata": {},
     "output_type": "execute_result"
    }
   ],
   "source": [
    "# OHE for ROLE_DEPTNAME variable\n",
    "from sklearn.preprocessing import OneHotEncoder\n",
    "ohe=OneHotEncoder(handle_unknown='ignore')\n",
    "ohe.fit(train['ROLE_DEPTNAME'].values.reshape(-1,1))\n",
    "deptname_ohe_train = ohe.transform(train['ROLE_DEPTNAME'].values.reshape(-1,1))\n",
    "deptname_ohe_test = ohe.transform(test['ROLE_DEPTNAME'].values.reshape(-1,1))\n",
    "deptname_ohe_train.shape,deptname_ohe_test.shape"
   ]
  },
  {
   "cell_type": "code",
   "execution_count": 77,
   "metadata": {},
   "outputs": [
    {
     "data": {
      "text/plain": [
       "((32769, 343), (58921, 343))"
      ]
     },
     "execution_count": 77,
     "metadata": {},
     "output_type": "execute_result"
    }
   ],
   "source": [
    "# OHE for ROLE_TITLE variable\n",
    "from sklearn.preprocessing import OneHotEncoder\n",
    "ohe=OneHotEncoder(handle_unknown='ignore')\n",
    "ohe.fit(train['ROLE_TITLE'].values.reshape(-1,1))\n",
    "title_ohe_train = ohe.transform(train['ROLE_TITLE'].values.reshape(-1,1))\n",
    "title_ohe_test = ohe.transform(test['ROLE_TITLE'].values.reshape(-1,1))\n",
    "title_ohe_train.shape,title_ohe_test.shape"
   ]
  },
  {
   "cell_type": "code",
   "execution_count": 78,
   "metadata": {},
   "outputs": [
    {
     "data": {
      "text/plain": [
       "((32769, 2358), (58921, 2358))"
      ]
     },
     "execution_count": 78,
     "metadata": {},
     "output_type": "execute_result"
    }
   ],
   "source": [
    "# OHE for ROLE_FAMILY_DESC variable\n",
    "from sklearn.preprocessing import OneHotEncoder\n",
    "ohe=OneHotEncoder(handle_unknown='ignore')\n",
    "ohe.fit(train['ROLE_FAMILY_DESC'].values.reshape(-1,1))\n",
    "family_desc_ohe_train = ohe.transform(train['ROLE_FAMILY_DESC'].values.reshape(-1,1))\n",
    "family_desc_ohe_test = ohe.transform(test['ROLE_FAMILY_DESC'].values.reshape(-1,1))\n",
    "family_desc_ohe_train.shape,family_desc_ohe_test.shape"
   ]
  },
  {
   "cell_type": "code",
   "execution_count": 79,
   "metadata": {},
   "outputs": [
    {
     "data": {
      "text/plain": [
       "((32769, 67), (58921, 67))"
      ]
     },
     "execution_count": 79,
     "metadata": {},
     "output_type": "execute_result"
    }
   ],
   "source": [
    "# OHE for ROLE_FAMILY variable\n",
    "from sklearn.preprocessing import OneHotEncoder\n",
    "ohe=OneHotEncoder(handle_unknown='ignore')\n",
    "ohe.fit(train['ROLE_FAMILY'].values.reshape(-1,1))\n",
    "family_ohe_train = ohe.transform(train['ROLE_FAMILY'].values.reshape(-1,1))\n",
    "family_ohe_test = ohe.transform(test['ROLE_FAMILY'].values.reshape(-1,1))\n",
    "family_ohe_train.shape,family_ohe_test.shape"
   ]
  },
  {
   "cell_type": "code",
   "execution_count": 80,
   "metadata": {},
   "outputs": [
    {
     "data": {
      "text/plain": [
       "((32769, 343), (58921, 343))"
      ]
     },
     "execution_count": 80,
     "metadata": {},
     "output_type": "execute_result"
    }
   ],
   "source": [
    "# OHE for ROLE_CODE variable\n",
    "from sklearn.preprocessing import OneHotEncoder\n",
    "ohe=OneHotEncoder(handle_unknown='ignore')\n",
    "ohe.fit(train['ROLE_CODE'].values.reshape(-1,1))\n",
    "code_ohe_train = ohe.transform(train['ROLE_CODE'].values.reshape(-1,1))\n",
    "code_ohe_test = ohe.transform(test['ROLE_CODE'].values.reshape(-1,1))\n",
    "code_ohe_train.shape,code_ohe_test.shape"
   ]
  },
  {
   "cell_type": "code",
   "execution_count": 81,
   "metadata": {},
   "outputs": [
    {
     "name": "stdout",
     "output_type": "stream",
     "text": [
      "(32769, 15626) (58921, 15626) (32769,)\n"
     ]
    }
   ],
   "source": [
    "from scipy.sparse import hstack\n",
    "ohe_train = hstack((resource_ohe_train,mgr_id_ohe_train,rollup1_ohe_train,rollup2_ohe_train,deptname_ohe_train,\n",
    "                    title_ohe_train,family_desc_ohe_train,family_ohe_train,code_ohe_train))\n",
    "ohe_train_y = train['ACTION'].values\n",
    "ohe_test = hstack((resurce_ohe_test,mgr_id_ohe_test,rollup1_ohe_test,rollup2_ohe_test,deptname_ohe_test,\n",
    "                    title_ohe_test,family_desc_ohe_test,family_ohe_test,code_ohe_test))\n",
    "\n",
    "print(ohe_train.shape,ohe_test.shape,ohe_train_y.shape)"
   ]
  },
  {
   "cell_type": "code",
   "execution_count": 82,
   "metadata": {},
   "outputs": [],
   "source": [
    "from sklearn.feature_selection import SelectKBest,chi2\n",
    "ktop = SelectKBest(chi2,k=4500).fit(ohe_train,ohe_train_y)\n",
    "ohe_train=ktop.transform(ohe_train)\n",
    "ohe_test=ktop.transform(ohe_test)"
   ]
  },
  {
   "cell_type": "code",
   "execution_count": 83,
   "metadata": {},
   "outputs": [
    {
     "data": {
      "text/plain": [
       "((32769, 4500), (58921, 4500))"
      ]
     },
     "execution_count": 83,
     "metadata": {},
     "output_type": "execute_result"
    }
   ],
   "source": [
    "ohe_train.shape,ohe_test.shape"
   ]
  },
  {
   "cell_type": "code",
   "execution_count": 84,
   "metadata": {},
   "outputs": [],
   "source": [
    "from scipy import sparse\n",
    "sparse.save_npz('data/ohe_train.npz',ohe_train)\n",
    "sparse.save_npz('data/ohe_test.npz',ohe_test)"
   ]
  },
  {
   "cell_type": "code",
   "execution_count": 85,
   "metadata": {},
   "outputs": [],
   "source": [
    "X = train.drop('ACTION', axis=1)\n",
    "y = train['ACTION']"
   ]
  },
  {
   "cell_type": "code",
   "execution_count": 86,
   "metadata": {},
   "outputs": [],
   "source": [
    "X_train, X_test, y_train, y_test = train_test_split(X, y, test_size=0.2, random_state=42)\n"
   ]
  },
  {
   "cell_type": "code",
   "execution_count": 87,
   "metadata": {},
   "outputs": [],
   "source": [
    "scaler = StandardScaler()\n",
    "X_train_scaled = scaler.fit_transform(X_train)\n",
    "X_test_scaled = scaler.transform(X_test)"
   ]
  },
  {
   "cell_type": "code",
   "execution_count": 108,
   "metadata": {},
   "outputs": [],
   "source": [
    "import numpy as np\n",
    "import random\n",
    "\n",
    "class QLearningAgent:\n",
    "    def __init__(self, state_size, action_size, learning_rate=0.1, discount_rate=0.95, epsilon=1.0, epsilon_decay=0.995, epsilon_min=0.01):\n",
    "        self.state_size = state_size\n",
    "        self.action_size = action_size\n",
    "        self.learning_rate = learning_rate\n",
    "        self.discount_rate = discount_rate\n",
    "        self.epsilon = epsilon\n",
    "        self.epsilon_decay = epsilon_decay\n",
    "        self.epsilon_min = epsilon_min\n",
    "        self.q_table = np.zeros((state_size, action_size))\n",
    "\n",
    "    def choose_action(self, state):\n",
    "        if np.random.rand() < self.epsilon:\n",
    "            return random.randint(0, self.action_size - 1)\n",
    "        else:\n",
    "            return np.argmax(self.q_table[state, :])\n",
    "\n",
    "    def update_q_table(self, state, action, reward, next_state):\n",
    "        best_next_action = np.argmax(self.q_table[next_state, :])\n",
    "        td_target = reward + self.discount_rate * self.q_table[next_state, best_next_action]\n",
    "        td_error = td_target - self.q_table[state, action]\n",
    "        self.q_table[state, action] += self.learning_rate * td_error\n",
    "\n",
    "    def decay_epsilon(self):\n",
    "        if self.epsilon > self.epsilon_min:\n",
    "            self.epsilon *= self.epsilon_decay\n"
   ]
  },
  {
   "cell_type": "code",
   "execution_count": 109,
   "metadata": {},
   "outputs": [],
   "source": [
    "# Initialize agent\n",
    "state_size = X_train_scaled.shape[1]\n",
    "action_size = 2\n",
    "agent = QLearningAgent(state_size, action_size)\n",
    "batch_size = 32\n",
    "\n",
    "# Training\n",
    "episodes = 10\n",
    "for e in range(episodes):\n",
    "    for i in range(len(X_train_scaled)):\n",
    "        state = np.argmax(X_train_scaled[i])\n",
    "        action = int(y_train.iloc[i])\n",
    "        next_state = np.argmax(X_train_scaled[i+1]) if i < len(X_train_scaled)-1 else state\n",
    "        reward = 1 if action == agent.choose_action(state) else -1\n",
    "        agent.update_q_table(state, action, reward, next_state)\n",
    "        agent.decay_epsilon()\n"
   ]
  },
  {
   "cell_type": "code",
   "execution_count": 112,
   "metadata": {},
   "outputs": [
    {
     "name": "stdout",
     "output_type": "stream",
     "text": [
      "Accuracy: 93.91211473909064\n",
      "Predicted actions Counter({1: 6520, 0: 34})\n"
     ]
    }
   ],
   "source": [
    "\n",
    "from collections import Counter\n",
    "def evaluate_agent(agent, X, y):\n",
    "    correct_predictions = 0\n",
    "    total_predictions = 0\n",
    "    y=y.values\n",
    "    y_pred=[]\n",
    "    for i in range(len(X)):\n",
    "        state = int(np.argmax(X[i]))\n",
    "        action = agent.choose_action(state)\n",
    "        y_pred.append(action)\n",
    "        if action == y[i]:\n",
    "            correct_predictions += 1\n",
    "        total_predictions += 1\n",
    "    accuracy = (correct_predictions / total_predictions)*100\n",
    "    return accuracy,y_pred\n",
    "\n",
    "accuracy,y_pred = evaluate_agent(agent, X_test_scaled, y_test)\n",
    "accuracy,y_pred = evaluate_agent(agent, X_test_scaled, y_test)\n",
    "print(\"Accuracy:\", accuracy)\n",
    "print(\"Predicted actions\",Counter(y_pred))"
   ]
  }
 ],
 "metadata": {
  "kernelspec": {
   "display_name": "Python 3",
   "language": "python",
   "name": "python3"
  },
  "language_info": {
   "codemirror_mode": {
    "name": "ipython",
    "version": 3
   },
   "file_extension": ".py",
   "mimetype": "text/x-python",
   "name": "python",
   "nbconvert_exporter": "python",
   "pygments_lexer": "ipython3",
   "version": "3.11.9"
  }
 },
 "nbformat": 4,
 "nbformat_minor": 2
}
